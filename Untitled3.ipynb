{
  "nbformat": 4,
  "nbformat_minor": 0,
  "metadata": {
    "colab": {
      "name": "Untitled3.ipynb",
      "provenance": [],
      "authorship_tag": "ABX9TyNWKVeweZX9y4KwGW3isnUS",
      "include_colab_link": true
    },
    "kernelspec": {
      "name": "python3",
      "display_name": "Python 3"
    },
    "language_info": {
      "name": "python"
    }
  },
  "cells": [
    {
      "cell_type": "markdown",
      "metadata": {
        "id": "view-in-github",
        "colab_type": "text"
      },
      "source": [
        "<a href=\"https://colab.research.google.com/github/zxftuhj/4-if/blob/main/Untitled3.ipynb\" target=\"_parent\"><img src=\"https://colab.research.google.com/assets/colab-badge.svg\" alt=\"Open In Colab\"/></a>"
      ]
    },
    {
      "cell_type": "code",
      "metadata": {
        "colab": {
          "base_uri": "https://localhost:8080/"
        },
        "id": "Z96HRBvA9BTI",
        "outputId": "82da4a21-7437-4a3c-c27b-ed6cf3335b37"
      },
      "source": [
        "a=[1,6,24,64,69]\n",
        "\n",
        "for i in a:\n",
        "  if i%2==0:\n",
        "    print(i)"
      ],
      "execution_count": 5,
      "outputs": [
        {
          "output_type": "stream",
          "name": "stdout",
          "text": [
            "6\n",
            "24\n",
            "64\n"
          ]
        }
      ]
    },
    {
      "cell_type": "code",
      "metadata": {
        "colab": {
          "base_uri": "https://localhost:8080/"
        },
        "id": "YE8YhGaF-sTG",
        "outputId": "df8d8578-f98b-4486-bf43-7fb5202891fb"
      },
      "source": [
        "a=[1,2,3,4,5]\n",
        " \n",
        "for i in a :\n",
        "  print(i, i*2)\n",
        "\n",
        "print('최종 값:', i)"
      ],
      "execution_count": 3,
      "outputs": [
        {
          "output_type": "stream",
          "name": "stdout",
          "text": [
            "1 2\n",
            "2 4\n",
            "3 6\n",
            "4 8\n",
            "5 10\n",
            "최종 값: 5\n"
          ]
        }
      ]
    },
    {
      "cell_type": "code",
      "metadata": {
        "colab": {
          "base_uri": "https://localhost:8080/"
        },
        "id": "-9wGALYlX_gj",
        "outputId": "edc53745-ba1b-4365-fe4d-ccf1a5993cb7"
      },
      "source": [
        "for i in 'Hello comnet A':\n",
        "  print(i, end='')"
      ],
      "execution_count": 4,
      "outputs": [
        {
          "output_type": "stream",
          "name": "stdout",
          "text": [
            "Hello comnet A"
          ]
        }
      ]
    },
    {
      "cell_type": "markdown",
      "metadata": {
        "id": "c_Wl34zIY1sG"
      },
      "source": [
        ""
      ]
    },
    {
      "cell_type": "markdown",
      "metadata": {
        "id": "XU1JQ64tZH21"
      },
      "source": [
        "# for문\n",
        "\n",
        "*   i는 매번 수행될 때마다 a 리스트 안의 값으로 순차적으로 번경된다.\n",
        "*   모든 a 안의 값이 수행되면 for문의 블록이 종료된다.\n",
        "\n"
      ]
    },
    {
      "cell_type": "code",
      "metadata": {
        "colab": {
          "base_uri": "https://localhost:8080/"
        },
        "id": "o-hdGUcGZfAq",
        "outputId": "2a64f9e8-b6a3-4b97-afdf-b2ca9ba7df56"
      },
      "source": [
        "a=[3,5,8,15,26,9]\n",
        "\n",
        "for i in a:\n",
        "  if i>5 and i<20:\n",
        "    continue\n",
        "  print(i)"
      ],
      "execution_count": 10,
      "outputs": [
        {
          "output_type": "stream",
          "name": "stdout",
          "text": [
            "3\n",
            "5\n",
            "26\n"
          ]
        }
      ]
    },
    {
      "cell_type": "code",
      "metadata": {
        "colab": {
          "base_uri": "https://localhost:8080/"
        },
        "id": "3kO8MQXmoP5M",
        "outputId": "89488782-edfb-4963-befd-3f3ee8964b61"
      },
      "source": [
        "a=int(input())\n",
        "\n",
        "for b in range(1,10,1):\n",
        "  print(a, '*', b,'=',a*b)"
      ],
      "execution_count": 6,
      "outputs": [
        {
          "output_type": "stream",
          "name": "stdout",
          "text": [
            "5\n",
            "5 * 1 = 5\n",
            "5 * 2 = 10\n",
            "5 * 3 = 15\n",
            "5 * 4 = 20\n",
            "5 * 5 = 25\n",
            "5 * 6 = 30\n",
            "5 * 7 = 35\n",
            "5 * 8 = 40\n",
            "5 * 9 = 45\n"
          ]
        }
      ]
    }
  ]
}