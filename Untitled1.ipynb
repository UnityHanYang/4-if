{
  "nbformat": 4,
  "nbformat_minor": 0,
  "metadata": {
    "colab": {
      "name": "Untitled1.ipynb",
      "provenance": [],
      "collapsed_sections": [],
      "authorship_tag": "ABX9TyPwNNVr+XZAze4yydmvjYMW",
      "include_colab_link": true
    },
    "kernelspec": {
      "name": "python3",
      "display_name": "Python 3"
    },
    "language_info": {
      "name": "python"
    }
  },
  "cells": [
    {
      "cell_type": "markdown",
      "metadata": {
        "id": "view-in-github",
        "colab_type": "text"
      },
      "source": [
        "<a href=\"https://colab.research.google.com/github/zxftuhj/4-if/blob/main/Untitled1.ipynb\" target=\"_parent\"><img src=\"https://colab.research.google.com/assets/colab-badge.svg\" alt=\"Open In Colab\"/></a>"
      ]
    },
    {
      "cell_type": "markdown",
      "metadata": {
        "id": "v9DukO1kpN6G"
      },
      "source": [
        ""
      ]
    },
    {
      "cell_type": "markdown",
      "metadata": {
        "id": "ZhuvYX6id2nh"
      },
      "source": [
        "##**학습목표**\n",
        " - 조건문의 이해와 활용\n",
        " "
      ]
    },
    {
      "cell_type": "markdown",
      "metadata": {
        "id": "tKPC0e2BeATg"
      },
      "source": [
        "###**조건문(if)**\n",
        "- 특정 조건을 만족하는 경우에 수행할 작업을 만들떄 사용\n",
        "- 참 ,거짓으로 표현\n",
        "- if else elif 사용\n",
        "- 조건문의 경우 들려쓰기로 하나의 블록을 만들고 여러 종속된 코드를 사용해 중첩 코드가 가능\n",
        "- `블록(block)`:들여쓰기 된 코드\n",
        "- 모든 블록의 시작과 마지막에는 :(콜론:colon)이 필요"
      ]
    },
    {
      "cell_type": "markdown",
      "metadata": {
        "id": "NCkpFQqDfl8y"
      },
      "source": [
        ""
      ]
    },
    {
      "cell_type": "code",
      "metadata": {
        "id": "f1U8C7W9fl-A",
        "colab": {
          "base_uri": "https://localhost:8080/"
        },
        "outputId": "5fab8c89-ec88-4ce6-86e5-5b1d3112afcc"
      },
      "source": [
        "if 20>10 : #just comment\n",
        "  print('참입니다')\n",
        "else:\n",
        "  print('거짓입니다')"
      ],
      "execution_count": null,
      "outputs": [
        {
          "output_type": "stream",
          "name": "stdout",
          "text": [
            "참입니다\n"
          ]
        }
      ]
    },
    {
      "cell_type": "markdown",
      "metadata": {
        "id": "B5haUPxGpZWw"
      },
      "source": [
        ""
      ]
    },
    {
      "cell_type": "markdown",
      "metadata": {
        "id": "eCGPYnmypffd"
      },
      "source": [
        ""
      ]
    },
    {
      "cell_type": "markdown",
      "metadata": {
        "id": "cetcp51Nnfns"
      },
      "source": [
        "### **if , *elif*, else**\n",
        "\n",
        "- 조건이 여러개인 경우, 해당 조건을 elif 블록에서 명시\n",
        "- 각 조건을 확인 후, true 조건의 코드 블락을 실행후 전체 구문을 종료\n"
      ]
    },
    {
      "cell_type": "code",
      "metadata": {
        "colab": {
          "base_uri": "https://localhost:8080/"
        },
        "id": "ZUtml_LXnzH1",
        "outputId": "c71494b6-1cfe-4698-fcb7-b7e10a931421"
      },
      "source": [
        "# 어떠한 점수에 대해 90점 이상이면 A, 80점 이상이면 B, 70점 이상이면 C, 60점 이상이면 D. 나머지 F인 코드를 작성하시오.\n",
        "# 단 100점인경우 성적이 A이며 동시에 선물을 증정하도록 하시오.\n",
        "\n",
        "\n",
        "\n",
        "score = 89\n",
        "\n",
        "if score >= 90:\n",
        "  print('A')\n",
        "  if score == 100:\n",
        "    print('선물 증정')\n",
        "elif score >= 80:\n",
        "  print('B')\n",
        "elif score >= 70:\n",
        "  print('C')\n",
        "elif score >= 60:\n",
        "  print('D')\n",
        "else:\n",
        "  print('F')\n",
        "\n",
        "print('수고하셨습니다')"
      ],
      "execution_count": 3,
      "outputs": [
        {
          "output_type": "stream",
          "name": "stdout",
          "text": [
            "B\n",
            "수고하셨습니다\n"
          ]
        }
      ]
    },
    {
      "cell_type": "code",
      "metadata": {
        "id": "qZz99wSFp6GM"
      },
      "source": [
        ""
      ],
      "execution_count": null,
      "outputs": []
    }
  ]
}